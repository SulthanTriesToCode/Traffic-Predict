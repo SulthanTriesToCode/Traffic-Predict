{
 "cells": [
  {
   "cell_type": "code",
   "execution_count": 1,
   "metadata": {},
   "outputs": [
    {
     "data": {
      "text/html": [
       "<div>\n",
       "<style scoped>\n",
       "    .dataframe tbody tr th:only-of-type {\n",
       "        vertical-align: middle;\n",
       "    }\n",
       "\n",
       "    .dataframe tbody tr th {\n",
       "        vertical-align: top;\n",
       "    }\n",
       "\n",
       "    .dataframe thead th {\n",
       "        text-align: right;\n",
       "    }\n",
       "</style>\n",
       "<table border=\"1\" class=\"dataframe\">\n",
       "  <thead>\n",
       "    <tr style=\"text-align: right;\">\n",
       "      <th></th>\n",
       "      <th>Roadblock</th>\n",
       "      <th>Time</th>\n",
       "      <th>Weather</th>\n",
       "      <th>Road Infrastructure</th>\n",
       "      <th>Types of Roads</th>\n",
       "      <th>Traffic Volume</th>\n",
       "      <th>Severity of Traffic</th>\n",
       "    </tr>\n",
       "  </thead>\n",
       "  <tbody>\n",
       "    <tr>\n",
       "      <th>0</th>\n",
       "      <td>full-blockage</td>\n",
       "      <td>night</td>\n",
       "      <td>snow/storm</td>\n",
       "      <td>good</td>\n",
       "      <td>local</td>\n",
       "      <td>1000+</td>\n",
       "      <td>very-high</td>\n",
       "    </tr>\n",
       "    <tr>\n",
       "      <th>1</th>\n",
       "      <td>full-blockage</td>\n",
       "      <td>morning</td>\n",
       "      <td>light-rain</td>\n",
       "      <td>bad</td>\n",
       "      <td>local</td>\n",
       "      <td>500-749</td>\n",
       "      <td>very-high</td>\n",
       "    </tr>\n",
       "    <tr>\n",
       "      <th>2</th>\n",
       "      <td>full-blockage</td>\n",
       "      <td>morning</td>\n",
       "      <td>foggy</td>\n",
       "      <td>good</td>\n",
       "      <td>freeway</td>\n",
       "      <td>500-749</td>\n",
       "      <td>medium</td>\n",
       "    </tr>\n",
       "    <tr>\n",
       "      <th>3</th>\n",
       "      <td>partial-roadwork</td>\n",
       "      <td>early-morning</td>\n",
       "      <td>light-rain</td>\n",
       "      <td>bad</td>\n",
       "      <td>local</td>\n",
       "      <td>500-749</td>\n",
       "      <td>high</td>\n",
       "    </tr>\n",
       "    <tr>\n",
       "      <th>4</th>\n",
       "      <td>minor-accident</td>\n",
       "      <td>evening</td>\n",
       "      <td>foggy</td>\n",
       "      <td>good</td>\n",
       "      <td>collector</td>\n",
       "      <td>500-749</td>\n",
       "      <td>medium</td>\n",
       "    </tr>\n",
       "  </tbody>\n",
       "</table>\n",
       "</div>"
      ],
      "text/plain": [
       "          Roadblock           Time     Weather Road Infrastructure  \\\n",
       "0     full-blockage          night  snow/storm                good   \n",
       "1     full-blockage        morning  light-rain                 bad   \n",
       "2     full-blockage        morning       foggy                good   \n",
       "3  partial-roadwork  early-morning  light-rain                 bad   \n",
       "4    minor-accident        evening       foggy                good   \n",
       "\n",
       "  Types of Roads Traffic Volume Severity of Traffic  \n",
       "0          local          1000+           very-high  \n",
       "1          local        500-749           very-high  \n",
       "2        freeway        500-749              medium  \n",
       "3          local        500-749                high  \n",
       "4      collector        500-749              medium  "
      ]
     },
     "execution_count": 1,
     "metadata": {},
     "output_type": "execute_result"
    }
   ],
   "source": [
    "import pandas as pd\n",
    "\n",
    "# Load the CSV file\n",
    "df = pd.read_csv('traffic_data.csv')\n",
    "\n",
    "# Display the first few rows of the DataFrame\n",
    "df.head()"
   ]
  },
  {
   "cell_type": "code",
   "execution_count": 12,
   "metadata": {},
   "outputs": [
    {
     "name": "stdout",
     "output_type": "stream",
     "text": [
      "Epoch 1/100\n",
      "24/24 [==============================] - 4s 50ms/step - loss: 0.1271 - val_loss: 0.1452\n",
      "Epoch 2/100\n",
      "24/24 [==============================] - 1s 25ms/step - loss: 0.1256 - val_loss: 0.1413\n",
      "Epoch 3/100\n",
      "24/24 [==============================] - 1s 27ms/step - loss: 0.1259 - val_loss: 0.1457\n",
      "Epoch 4/100\n",
      "24/24 [==============================] - 1s 25ms/step - loss: 0.1254 - val_loss: 0.1421\n",
      "Epoch 5/100\n",
      "24/24 [==============================] - 1s 25ms/step - loss: 0.1253 - val_loss: 0.1432\n"
     ]
    },
    {
     "data": {
      "text/plain": [
       "<keras.src.callbacks.History at 0x26a44701d50>"
      ]
     },
     "execution_count": 12,
     "metadata": {},
     "output_type": "execute_result"
    }
   ],
   "source": [
    "from keras.callbacks import EarlyStopping\n",
    "from sklearn.model_selection import train_test_split\n",
    "import pandas as pd\n",
    "import numpy as np\n",
    "from sklearn.preprocessing import MinMaxScaler\n",
    "from keras.models import Sequential\n",
    "from keras.layers import Dense, LSTM\n",
    "\n",
    "df = pd.read_csv('traffic_data.csv')\n",
    "\n",
    "# Convert categorical data to numerical using one-hot encoding\n",
    "df_encoded = pd.get_dummies(df)\n",
    "\n",
    "scaler = MinMaxScaler(feature_range=(0, 1))\n",
    "scaled_data = scaler.fit_transform(df_encoded)\n",
    "\n",
    "X = []\n",
    "y = []\n",
    "for i in range(60, len(scaled_data)):\n",
    "    X.append(scaled_data[i-60:i, 0])\n",
    "    y.append(scaled_data[i, 0])\n",
    "X, y = np.array(X), np.array(y)\n",
    "\n",
    "X = np.reshape(X, (X.shape[0], X.shape[1], 1))\n",
    "\n",
    "X_train, X_test, y_train, y_test = train_test_split(X, y, test_size=0.2, random_state=42)\n",
    "\n",
    "model = Sequential()\n",
    "model.add(LSTM(units=50, return_sequences=True, input_shape=(X.shape[1], 1)))\n",
    "model.add(LSTM(units=50))\n",
    "model.add(Dense(units=1))\n",
    "\n",
    "model.compile(optimizer='adam', loss='mean_squared_error')\n",
    "# Define the EarlyStopping callback\n",
    "early_stopping = EarlyStopping(monitor='val_loss', patience=3, restore_best_weights=True)\n",
    "model.fit(X_train, y_train, epochs=100, batch_size=32, validation_data=(X_test, y_test), callbacks=[early_stopping])"
   ]
  },
  {
   "cell_type": "code",
   "execution_count": null,
   "metadata": {},
   "outputs": [],
   "source": []
  }
 ],
 "metadata": {
  "kernelspec": {
   "display_name": "Python 3",
   "language": "python",
   "name": "python3"
  },
  "language_info": {
   "codemirror_mode": {
    "name": "ipython",
    "version": 3
   },
   "file_extension": ".py",
   "mimetype": "text/x-python",
   "name": "python",
   "nbconvert_exporter": "python",
   "pygments_lexer": "ipython3",
   "version": "3.11.4"
  }
 },
 "nbformat": 4,
 "nbformat_minor": 2
}
